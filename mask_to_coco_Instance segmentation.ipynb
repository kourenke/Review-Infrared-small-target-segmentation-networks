{
 "cells": [
  {
   "cell_type": "code",
   "execution_count": 1,
   "metadata": {},
   "outputs": [],
   "source": [
    "import numpy as np\n",
    "from irstdet.utils import GenericMask\n",
    "from irstdet.utils.box_mode import BoxMode\n",
    "import os.path as osp\n",
    "import mmengine.fileio as fileio\n",
    "from sahi.utils.file import save_json\n",
    "from sahi.utils.coco import Coco, CocoCategory, CocoImage, CocoAnnotation,CocoPrediction\n",
    "import os\n",
    "from PIL import Image\n",
    "import json\n",
    "import numpy as np\n",
    "from pycocotools import mask as pymask\n",
    "from skimage import measure\n",
    "from tqdm import tqdm\n"
   ]
  },
  {
   "cell_type": "code",
   "execution_count": 2,
   "metadata": {},
   "outputs": [],
   "source": [
    "data_root = \"./data/\"\n",
    "data_names= ['IRSTD-1K', 'NUDT-SIRST', 'NUAA-SIRST']\n",
    "imgs_dir = 'images'\n",
    "labels_dir =  'masks'\n",
    "ind = 'img_idx'\n"
   ]
  },
  {
   "cell_type": "code",
   "execution_count": 3,
   "metadata": {},
   "outputs": [],
   "source": []
  },
  {
   "cell_type": "code",
   "execution_count": 9,
   "metadata": {},
   "outputs": [
    {
     "name": "stderr",
     "output_type": "stream",
     "text": [
      "Processing IRSTD-1K:   0%|          | 0/3 [00:00<?, ?it/s]"
     ]
    },
    {
     "name": "stderr",
     "output_type": "stream",
     "text": [
      "Processing XDU750.png: 100%|██████████| 1001/1001 [00:10<00:00, 92.50it/s]\n",
      "Processing 000644.png: 100%|██████████| 1327/1327 [00:13<00:00, 101.74it/s]\n",
      "Processing Misc_238.png: 100%|██████████| 427/427 [00:04<00:00, 103.36it/s]\n",
      "Processing NUAA-SIRST: 100%|██████████| 3/3 [00:28<00:00,  9.38s/it]\n"
     ]
    }
   ],
   "source": [
    "train_coco = Coco(image_id_setting='manual')\n",
    "train_coco.add_category(CocoCategory(id=1, name='target'))\n",
    "\n",
    "test_coco = Coco(image_id_setting='manual')\n",
    "test_coco.add_category(CocoCategory(id=1, name='target'))\n",
    "\n",
    "id = 0\n",
    "\n",
    "data_name_bar = tqdm(data_names)\n",
    "for data_name in data_name_bar:\n",
    "    data_name_bar.set_description(f\"Processing {data_name}\")\n",
    "    current_data_root = osp.join(data_root, data_name) # ./data/IRSTD-1K\n",
    "    # img_names = [i for i in fileio.list_from_file(osp.join(data_root, data_name, ))]\n",
    "    imgs_list = [i for i in fileio.list_dir_or_file(osp.join(current_data_root, imgs_dir))] # ['xxx.png']\n",
    "    masks_list = [i for i in fileio.list_dir_or_file(osp.join(current_data_root, labels_dir))] # # ['xxx.png']\n",
    "    \n",
    "    train_ind = [i for i in fileio.list_from_file(osp.join(current_data_root, ind, f'train_{data_name}.txt' ))]\n",
    "    test_ind = [i for i in fileio.list_from_file(osp.join(current_data_root, ind, f'test_{data_name}.txt' ))]\n",
    "\n",
    "    img_name_bar = tqdm(imgs_list)\n",
    "    for img_file in img_name_bar:\n",
    "        img_name_bar.set_description(f\"Processing {img_file}\")\n",
    "        img_path = osp.join(current_data_root, imgs_dir, img_file)\n",
    "        mask_path = osp.join(current_data_root, labels_dir, img_file)\n",
    "        mask = Image.open(mask_path).convert('L')\n",
    "        w, h= mask.size\n",
    "\n",
    "        coco_image = CocoImage(\n",
    "        file_name=f\"{osp.join(data_name, imgs_dir, img_file)}\", height=h, width=w, id=int(id))\n",
    "\n",
    "\n",
    "        fotran_mask = np.asfortranarray(np.array(mask))\n",
    "        encoded_ground_truth = pymask.encode(np.array(fotran_mask))\n",
    "        contours = measure.find_contours(np.array(fotran_mask), 0.5)\n",
    "        \n",
    "        segmentations = []\n",
    "\n",
    "        for contour in contours:\n",
    "            contour = np.flip(contour, axis=1)\n",
    "            segmentation = contour.ravel().tolist()\n",
    "            coco_image.add_annotation(\n",
    "            CocoAnnotation(\n",
    "                category_id=1,\n",
    "                category_name='target',\n",
    "                segmentation=[segmentation],\n",
    "                image_id=int(id)\n",
    "            )\n",
    "        )\n",
    "        try :\n",
    "            if img_file.split('.')[0] in train_ind:\n",
    "                train_coco.add_image(coco_image)\n",
    "            elif img_file.split('.')[0] in test_ind: \n",
    "                test_coco.add_image(coco_image)\n",
    "            else: \n",
    "                raise ValueError(f\"Image {img_file} not found in either images or masks list\")\n",
    "        except:\n",
    "            print(f\"Image {img_file} not found in either images or masks list\")\n",
    "        id+=1\n",
    "        \n"
   ]
  },
  {
   "cell_type": "code",
   "execution_count": 10,
   "metadata": {},
   "outputs": [],
   "source": [
    "fileio.dump(train_coco.json,osp.join(data_root, 'train.json'))\n",
    "fileio.dump(test_coco.json, osp.join(data_root, 'test.json'))"
   ]
  },
  {
   "cell_type": "code",
   "execution_count": 6,
   "metadata": {},
   "outputs": [
    {
     "data": {
      "text/plain": [
       "True"
      ]
     },
     "execution_count": 6,
     "metadata": {},
     "output_type": "execute_result"
    }
   ],
   "source": [
    "img_file in imgs_list"
   ]
  },
  {
   "cell_type": "code",
   "execution_count": 7,
   "metadata": {},
   "outputs": [
    {
     "data": {
      "text/plain": [
       "{'num_images': 1676,\n",
       " 'num_annotations': 2483,\n",
       " 'num_categories': 1,\n",
       " 'num_negative_images': 0,\n",
       " 'num_images_per_category': {'target': 1676},\n",
       " 'num_annotations_per_category': {'target': 2483},\n",
       " 'min_num_annotations_in_image': 1,\n",
       " 'max_num_annotations_in_image': 7,\n",
       " 'avg_num_annotations_in_image': 1.4815035799522673,\n",
       " 'min_annotation_area': 0,\n",
       " 'max_annotation_area': 1111,\n",
       " 'avg_annotation_area': 50.35440998791784,\n",
       " 'min_annotation_area_per_category': {'target': 0},\n",
       " 'max_annotation_area_per_category': {'target': 1111}}"
      ]
     },
     "execution_count": 7,
     "metadata": {},
     "output_type": "execute_result"
    }
   ],
   "source": [
    "train_coco.stats"
   ]
  },
  {
   "cell_type": "code",
   "execution_count": 8,
   "metadata": {},
   "outputs": [
    {
     "data": {
      "text/plain": [
       "{'num_images': 1079,\n",
       " 'num_annotations': 1564,\n",
       " 'num_categories': 1,\n",
       " 'num_negative_images': 0,\n",
       " 'num_images_per_category': {'target': 1079},\n",
       " 'num_annotations_per_category': {'target': 1564},\n",
       " 'min_num_annotations_in_image': 1,\n",
       " 'max_num_annotations_in_image': 8,\n",
       " 'avg_num_annotations_in_image': 1.4494902687673772,\n",
       " 'min_annotation_area': 0,\n",
       " 'max_annotation_area': 1183,\n",
       " 'avg_annotation_area': 42.577365728900254,\n",
       " 'min_annotation_area_per_category': {'target': 0},\n",
       " 'max_annotation_area_per_category': {'target': 1183}}"
      ]
     },
     "execution_count": 8,
     "metadata": {},
     "output_type": "execute_result"
    }
   ],
   "source": [
    "test_coco.stats"
   ]
  },
  {
   "cell_type": "code",
   "execution_count": null,
   "metadata": {},
   "outputs": [],
   "source": []
  }
 ],
 "metadata": {
  "kernelspec": {
   "display_name": "Python 3",
   "language": "python",
   "name": "python3"
  },
  "language_info": {
   "codemirror_mode": {
    "name": "ipython",
    "version": 3
   },
   "file_extension": ".py",
   "mimetype": "text/x-python",
   "name": "python",
   "nbconvert_exporter": "python",
   "pygments_lexer": "ipython3",
   "version": "3.10.0"
  }
 },
 "nbformat": 4,
 "nbformat_minor": 2
}
